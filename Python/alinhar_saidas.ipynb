{
 "cells": [
  {
   "cell_type": "code",
   "execution_count": 1,
   "id": "1723a957",
   "metadata": {},
   "outputs": [],
   "source": [
    "import pandas as pd"
   ]
  },
  {
   "cell_type": "code",
   "execution_count": null,
   "id": "2b3cbae8",
   "metadata": {},
   "outputs": [],
   "source": [
    "obj = pd.read_csv('usuarios.txt', names=['Nr.', 'ESPAÇO USADO (MB)', '% USO'], sep='\\s+')"
   ]
  },
  {
   "cell_type": "code",
   "execution_count": null,
   "id": "fa5c1891",
   "metadata": {},
   "outputs": [],
   "source": [
    "obj.index += 1 # Começa do índice 1\n",
    "converter_mb = lambda dado: round((dado / 2 ** 20), 2) # Função para converter para MB"
   ]
  },
  {
   "cell_type": "code",
   "execution_count": null,
   "id": "47f4bfd9",
   "metadata": {},
   "outputs": [],
   "source": [
    "obj['ESPAÇO USADO (MB)'] = obj['ESPAÇO USADO (MB)'].apply(converter_mb) # Aplicando a função\n",
    "total_ocupado = obj['ESPAÇO USADO (MB)'].sum()\n",
    "obj['% USO'] = round((obj['ESPAÇO USADO (MB)'] * 100) / total_ocupado, 2)"
   ]
  },
  {
   "cell_type": "code",
   "execution_count": null,
   "id": "b3bfc7a8",
   "metadata": {},
   "outputs": [],
   "source": [
    "print(f'{\"ACME INC.\":^50}')\n",
    "print(f'{\"RELATÓRIO DE USO DE ESPAÇO EM DISCO PELOS USUÁRIOS\":^30}\\n')"
   ]
  },
  {
   "cell_type": "code",
   "execution_count": null,
   "id": "d96ea302",
   "metadata": {},
   "outputs": [],
   "source": [
    "print(obj)\n",
    "print(f'\\nEspaço total ocupado: {total_ocupado:.2f} MB')\n",
    "print(f'Espaço médio ocupado: {obj[\"ESPAÇO USADO (MB)\"].mean():.2f} MB')"
   ]
  },
  {
   "cell_type": "code",
   "execution_count": null,
   "id": "ea62ef19",
   "metadata": {},
   "outputs": [],
   "source": []
  }
 ],
 "metadata": {
  "kernelspec": {
   "display_name": "Python 3",
   "language": "python",
   "name": "python3"
  },
  "language_info": {
   "codemirror_mode": {
    "name": "ipython",
    "version": 3
   },
   "file_extension": ".py",
   "mimetype": "text/x-python",
   "name": "python",
   "nbconvert_exporter": "python",
   "pygments_lexer": "ipython3",
   "version": "3.9.4"
  }
 },
 "nbformat": 4,
 "nbformat_minor": 5
}
